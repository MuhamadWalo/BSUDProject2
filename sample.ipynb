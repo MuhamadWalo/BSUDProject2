{
 "cells": [
  {
   "metadata": {},
   "cell_type": "markdown",
   "source": [
    "# This is a sample Jupyter Notebook\n",
    "\n",
    "Below is an example of a code cell. \n",
    "Put your cursor into the cell and press Shift+Enter to execute it and select the next one, or click 'Run Cell' button.\n",
    "\n",
    "Press Double Shift to search everywhere for classes, files, tool windows, actions, and settings.\n",
    "\n",
    "To learn more about Jupyter Notebooks in PyCharm, see [help](https://www.jetbrains.com/help/pycharm/ipython-notebook-support.html).\n",
    "For an overview of PyCharm, go to Help -> Learn IDE features or refer to [our documentation](https://www.jetbrains.com/help/pycharm/getting-started.html)."
   ],
   "id": "8a77807f92f26ee"
  },
  {
   "metadata": {},
   "cell_type": "markdown",
   "source": "BSUD Project 2: ",
   "id": "365741e9828695c"
  },
  {
   "metadata": {},
   "cell_type": "code",
   "outputs": [],
   "execution_count": null,
   "source": [
    "import pandas as pd\n",
    "import numpy as np\n",
    "import matplotlib.pyplot as plt\n",
    "from nltk.tokenize import word_tokenize\n",
    "from nltk.corpus import stopwords\n",
    "from nltk.stem import WordNetLemmatizer\n",
    "from sklearn.feature_extraction.text import TfidfVectorizer\n",
    "from sklearn.decomposition import LatentDirichletAllocation\n",
    "from sklearn.cluster import KMeans\n",
    "from wordcloud import WordCloud\n",
    "from textblob import TextBlob\n",
    "import os\n"
   ],
   "id": "89dbc2e73b1e6a56"
  },
  {
   "metadata": {},
   "cell_type": "markdown",
   "source": "Set Up Paths",
   "id": "ae506b2f9ff97dcc"
  },
  {
   "metadata": {
    "ExecuteTime": {
     "end_time": "2024-12-09T10:26:12.544873Z",
     "start_time": "2024-12-09T10:26:12.507311Z"
    }
   },
   "cell_type": "code",
   "source": [
    "# Set up paths\n",
    "data_folder = \"../data\"\n",
    "reviews_path = os.path.join(data_folder, \"tripadvisor_hotel_reviews.csv\")\n",
    "sentiment_path = os.path.join(data_folder, \"tripadvisor_hotel_reviews_sentiment.csv\")\n",
    "target_sentiment_path = os.path.join(data_folder, \"tripadvisor_hotel_reviews_target_sentiment.csv\")\n",
    "stopwords_path = os.path.join(data_folder, \"Additional_Stopwords.txt\")\n"
   ],
   "id": "fbc121e30a2defb3",
   "outputs": [
    {
     "ename": "NameError",
     "evalue": "name 'os' is not defined",
     "output_type": "error",
     "traceback": [
      "\u001B[0;31m---------------------------------------------------------------------------\u001B[0m",
      "\u001B[0;31mNameError\u001B[0m                                 Traceback (most recent call last)",
      "Cell \u001B[0;32mIn[4], line 3\u001B[0m\n\u001B[1;32m      1\u001B[0m \u001B[38;5;66;03m# Set up paths\u001B[39;00m\n\u001B[1;32m      2\u001B[0m data_folder \u001B[38;5;241m=\u001B[39m \u001B[38;5;124m\"\u001B[39m\u001B[38;5;124m../data\u001B[39m\u001B[38;5;124m\"\u001B[39m\n\u001B[0;32m----> 3\u001B[0m reviews_path \u001B[38;5;241m=\u001B[39m os\u001B[38;5;241m.\u001B[39mpath\u001B[38;5;241m.\u001B[39mjoin(data_folder, \u001B[38;5;124m\"\u001B[39m\u001B[38;5;124mtripadvisor_hotel_reviews.csv\u001B[39m\u001B[38;5;124m\"\u001B[39m)\n\u001B[1;32m      4\u001B[0m sentiment_path \u001B[38;5;241m=\u001B[39m os\u001B[38;5;241m.\u001B[39mpath\u001B[38;5;241m.\u001B[39mjoin(data_folder, \u001B[38;5;124m\"\u001B[39m\u001B[38;5;124mtripadvisor_hotel_reviews_sentiment.csv\u001B[39m\u001B[38;5;124m\"\u001B[39m)\n\u001B[1;32m      5\u001B[0m target_sentiment_path \u001B[38;5;241m=\u001B[39m os\u001B[38;5;241m.\u001B[39mpath\u001B[38;5;241m.\u001B[39mjoin(data_folder, \u001B[38;5;124m\"\u001B[39m\u001B[38;5;124mtripadvisor_hotel_reviews_target_sentiment.csv\u001B[39m\u001B[38;5;124m\"\u001B[39m)\n",
      "\u001B[0;31mNameError\u001B[0m: name 'os' is not defined"
     ]
    }
   ],
   "execution_count": 4
  }
 ],
 "metadata": {
  "kernelspec": {
   "display_name": "Python 3",
   "language": "python",
   "name": "python3"
  },
  "language_info": {
   "codemirror_mode": {
    "name": "ipython",
    "version": 2
   },
   "file_extension": ".py",
   "mimetype": "text/x-python",
   "name": "python",
   "nbconvert_exporter": "python",
   "pygments_lexer": "ipython2",
   "version": "2.7.6"
  }
 },
 "nbformat": 4,
 "nbformat_minor": 5
}
